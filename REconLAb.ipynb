{
  "cells": [
    {
      "cell_type": "markdown",
      "metadata": {
        "id": "BT8EtTnLFdxp"
      },
      "source": [
        "#book recommender system using collaborative clustering\n"
      ]
    },
    {
      "cell_type": "code",
      "execution_count": 9,
      "metadata": {
        "id": "N1QumxF2Fkol"
      },
      "outputs": [],
      "source": [
        "import pandas as pd\n",
        "import numpy as np\n",
        "import matplotlib.pyplot as plt\n",
        "import seaborn as sns"
      ]
    },
    {
      "cell_type": "code",
      "execution_count": 10,
      "metadata": {
        "colab": {
          "base_uri": "https://localhost:8080/"
        },
        "id": "01_CleRxFupl",
        "outputId": "9889fd29-55f6-48a9-a365-c315897cab40"
      },
      "outputs": [
        {
          "name": "stderr",
          "output_type": "stream",
          "text": [
            "C:\\Users\\Tanmay Somani\\AppData\\Local\\Temp\\ipykernel_20292\\2261488849.py:1: FutureWarning: The error_bad_lines argument has been deprecated and will be removed in a future version. Use on_bad_lines in the future.\n",
            "\n",
            "\n",
            "  books=pd.read_csv(\"BX-Books.csv\",sep=';',encoding='latin-1',error_bad_lines=False)\n",
            "Skipping line 6452: expected 8 fields, saw 9\n",
            "Skipping line 43667: expected 8 fields, saw 10\n",
            "Skipping line 51751: expected 8 fields, saw 9\n",
            "\n",
            "Skipping line 92038: expected 8 fields, saw 9\n",
            "Skipping line 104319: expected 8 fields, saw 9\n",
            "Skipping line 121768: expected 8 fields, saw 9\n",
            "\n",
            "Skipping line 144058: expected 8 fields, saw 9\n",
            "Skipping line 150789: expected 8 fields, saw 9\n",
            "Skipping line 157128: expected 8 fields, saw 9\n",
            "Skipping line 180189: expected 8 fields, saw 9\n",
            "Skipping line 185738: expected 8 fields, saw 9\n",
            "\n",
            "Skipping line 209388: expected 8 fields, saw 9\n",
            "Skipping line 220626: expected 8 fields, saw 9\n",
            "Skipping line 227933: expected 8 fields, saw 11\n",
            "Skipping line 228957: expected 8 fields, saw 10\n",
            "Skipping line 245933: expected 8 fields, saw 9\n",
            "Skipping line 251296: expected 8 fields, saw 9\n",
            "Skipping line 259941: expected 8 fields, saw 9\n",
            "Skipping line 261529: expected 8 fields, saw 9\n",
            "\n",
            "C:\\Users\\Tanmay Somani\\AppData\\Local\\Temp\\ipykernel_20292\\2261488849.py:1: DtypeWarning: Columns (3) have mixed types. Specify dtype option on import or set low_memory=False.\n",
            "  books=pd.read_csv(\"BX-Books.csv\",sep=';',encoding='latin-1',error_bad_lines=False)\n"
          ]
        },
        {
          "data": {
            "text/html": [
              "<div>\n",
              "<style scoped>\n",
              "    .dataframe tbody tr th:only-of-type {\n",
              "        vertical-align: middle;\n",
              "    }\n",
              "\n",
              "    .dataframe tbody tr th {\n",
              "        vertical-align: top;\n",
              "    }\n",
              "\n",
              "    .dataframe thead th {\n",
              "        text-align: right;\n",
              "    }\n",
              "</style>\n",
              "<table border=\"1\" class=\"dataframe\">\n",
              "  <thead>\n",
              "    <tr style=\"text-align: right;\">\n",
              "      <th></th>\n",
              "      <th>ISBN</th>\n",
              "      <th>Book-Title</th>\n",
              "      <th>Book-Author</th>\n",
              "      <th>Year-Of-Publication</th>\n",
              "      <th>Publisher</th>\n",
              "      <th>Image-URL-S</th>\n",
              "      <th>Image-URL-M</th>\n",
              "      <th>Image-URL-L</th>\n",
              "    </tr>\n",
              "  </thead>\n",
              "  <tbody>\n",
              "    <tr>\n",
              "      <th>0</th>\n",
              "      <td>0195153448</td>\n",
              "      <td>Classical Mythology</td>\n",
              "      <td>Mark P. O. Morford</td>\n",
              "      <td>2002</td>\n",
              "      <td>Oxford University Press</td>\n",
              "      <td>http://images.amazon.com/images/P/0195153448.0...</td>\n",
              "      <td>http://images.amazon.com/images/P/0195153448.0...</td>\n",
              "      <td>http://images.amazon.com/images/P/0195153448.0...</td>\n",
              "    </tr>\n",
              "    <tr>\n",
              "      <th>1</th>\n",
              "      <td>0002005018</td>\n",
              "      <td>Clara Callan</td>\n",
              "      <td>Richard Bruce Wright</td>\n",
              "      <td>2001</td>\n",
              "      <td>HarperFlamingo Canada</td>\n",
              "      <td>http://images.amazon.com/images/P/0002005018.0...</td>\n",
              "      <td>http://images.amazon.com/images/P/0002005018.0...</td>\n",
              "      <td>http://images.amazon.com/images/P/0002005018.0...</td>\n",
              "    </tr>\n",
              "    <tr>\n",
              "      <th>2</th>\n",
              "      <td>0060973129</td>\n",
              "      <td>Decision in Normandy</td>\n",
              "      <td>Carlo D'Este</td>\n",
              "      <td>1991</td>\n",
              "      <td>HarperPerennial</td>\n",
              "      <td>http://images.amazon.com/images/P/0060973129.0...</td>\n",
              "      <td>http://images.amazon.com/images/P/0060973129.0...</td>\n",
              "      <td>http://images.amazon.com/images/P/0060973129.0...</td>\n",
              "    </tr>\n",
              "    <tr>\n",
              "      <th>3</th>\n",
              "      <td>0374157065</td>\n",
              "      <td>Flu: The Story of the Great Influenza Pandemic...</td>\n",
              "      <td>Gina Bari Kolata</td>\n",
              "      <td>1999</td>\n",
              "      <td>Farrar Straus Giroux</td>\n",
              "      <td>http://images.amazon.com/images/P/0374157065.0...</td>\n",
              "      <td>http://images.amazon.com/images/P/0374157065.0...</td>\n",
              "      <td>http://images.amazon.com/images/P/0374157065.0...</td>\n",
              "    </tr>\n",
              "    <tr>\n",
              "      <th>4</th>\n",
              "      <td>0393045218</td>\n",
              "      <td>The Mummies of Urumchi</td>\n",
              "      <td>E. J. W. Barber</td>\n",
              "      <td>1999</td>\n",
              "      <td>W. W. Norton &amp;amp; Company</td>\n",
              "      <td>http://images.amazon.com/images/P/0393045218.0...</td>\n",
              "      <td>http://images.amazon.com/images/P/0393045218.0...</td>\n",
              "      <td>http://images.amazon.com/images/P/0393045218.0...</td>\n",
              "    </tr>\n",
              "  </tbody>\n",
              "</table>\n",
              "</div>"
            ],
            "text/plain": [
              "         ISBN                                         Book-Title  \\\n",
              "0  0195153448                                Classical Mythology   \n",
              "1  0002005018                                       Clara Callan   \n",
              "2  0060973129                               Decision in Normandy   \n",
              "3  0374157065  Flu: The Story of the Great Influenza Pandemic...   \n",
              "4  0393045218                             The Mummies of Urumchi   \n",
              "\n",
              "            Book-Author Year-Of-Publication                   Publisher  \\\n",
              "0    Mark P. O. Morford                2002     Oxford University Press   \n",
              "1  Richard Bruce Wright                2001       HarperFlamingo Canada   \n",
              "2          Carlo D'Este                1991             HarperPerennial   \n",
              "3      Gina Bari Kolata                1999        Farrar Straus Giroux   \n",
              "4       E. J. W. Barber                1999  W. W. Norton &amp; Company   \n",
              "\n",
              "                                         Image-URL-S  \\\n",
              "0  http://images.amazon.com/images/P/0195153448.0...   \n",
              "1  http://images.amazon.com/images/P/0002005018.0...   \n",
              "2  http://images.amazon.com/images/P/0060973129.0...   \n",
              "3  http://images.amazon.com/images/P/0374157065.0...   \n",
              "4  http://images.amazon.com/images/P/0393045218.0...   \n",
              "\n",
              "                                         Image-URL-M  \\\n",
              "0  http://images.amazon.com/images/P/0195153448.0...   \n",
              "1  http://images.amazon.com/images/P/0002005018.0...   \n",
              "2  http://images.amazon.com/images/P/0060973129.0...   \n",
              "3  http://images.amazon.com/images/P/0374157065.0...   \n",
              "4  http://images.amazon.com/images/P/0393045218.0...   \n",
              "\n",
              "                                         Image-URL-L  \n",
              "0  http://images.amazon.com/images/P/0195153448.0...  \n",
              "1  http://images.amazon.com/images/P/0002005018.0...  \n",
              "2  http://images.amazon.com/images/P/0060973129.0...  \n",
              "3  http://images.amazon.com/images/P/0374157065.0...  \n",
              "4  http://images.amazon.com/images/P/0393045218.0...  "
            ]
          },
          "execution_count": 10,
          "metadata": {},
          "output_type": "execute_result"
        }
      ],
      "source": [
        "books=pd.read_csv(\"BX-Books.csv\",sep=';',encoding='latin-1',error_bad_lines=False)\n",
        "books.head()"
      ]
    },
    {
      "cell_type": "code",
      "execution_count": 11,
      "metadata": {
        "id": "u9Xdm5HPGE_J"
      },
      "outputs": [],
      "source": [
        "books=books[['ISBN','Book-Title', 'Book-Author', 'Year-Of-Publication', 'Publisher','Image-URL-L']]"
      ]
    },
    {
      "cell_type": "code",
      "execution_count": 12,
      "metadata": {
        "id": "Y8YxkFV8GexM"
      },
      "outputs": [],
      "source": [
        "books.rename(columns={\n",
        "    \"Book-Title\":\"title\",\n",
        "    \"Books-Author\":\"author\",\n",
        "    \"Year-Of-Publication\":\"year\",\n",
        "    \"Image-URL-L\":\"img_url\"\n",
        "},inplace=True)"
      ]
    },
    {
      "cell_type": "code",
      "execution_count": 13,
      "metadata": {
        "colab": {
          "base_uri": "https://localhost:8080/"
        },
        "id": "yyV9WpJ1Grlx",
        "outputId": "5de30e71-255b-477f-8e8d-582bb7015e2f"
      },
      "outputs": [
        {
          "name": "stderr",
          "output_type": "stream",
          "text": [
            "C:\\Users\\Tanmay Somani\\AppData\\Local\\Temp\\ipykernel_20292\\5631173.py:1: FutureWarning: The error_bad_lines argument has been deprecated and will be removed in a future version. Use on_bad_lines in the future.\n",
            "\n",
            "\n",
            "  users=pd.read_csv(\"BX-Users.csv\",sep=';',error_bad_lines=False ,encoding='latin-1')\n"
          ]
        }
      ],
      "source": [
        "users=pd.read_csv(\"BX-Users.csv\",sep=';',error_bad_lines=False ,encoding='latin-1') "
      ]
    },
    {
      "cell_type": "code",
      "execution_count": 14,
      "metadata": {
        "colab": {
          "base_uri": "https://localhost:8080/"
        },
        "id": "Lkcfz_3lIHvW",
        "outputId": "657fd2b3-37d9-434c-fe3e-7310e70b59d1"
      },
      "outputs": [],
      "source": [
        "ratings=pd.read_csv(\"BX-Book-Ratings.csv\",sep=';' ,encoding='latin-1') "
      ]
    },
    {
      "cell_type": "markdown",
      "metadata": {
        "id": "mY4AZRUeIe-m"
      },
      "source": [
        "In collaborative system it is important for a user to give you ratings."
      ]
    },
    {
      "cell_type": "code",
      "execution_count": 15,
      "metadata": {
        "id": "ylk1Z7Q-IYnW"
      },
      "outputs": [],
      "source": [
        "ratings.rename(columns={\"User-ID\":\"user_id\",\"Book-Rating\":\"rating\"},inplace=True)"
      ]
    },
    {
      "cell_type": "code",
      "execution_count": 16,
      "metadata": {
        "id": "C9RBSjePJMqA"
      },
      "outputs": [],
      "source": [
        "x=ratings[\"user_id\"].value_counts()>200"
      ]
    },
    {
      "cell_type": "code",
      "execution_count": 17,
      "metadata": {
        "id": "raO8vnHxJ6Vl"
      },
      "outputs": [],
      "source": [
        "y=x[x].index"
      ]
    },
    {
      "cell_type": "code",
      "execution_count": 18,
      "metadata": {
        "id": "4kBHydvVPeVO"
      },
      "outputs": [],
      "source": [
        "ratings=ratings[ratings['user_id'].isin(y)]"
      ]
    },
    {
      "cell_type": "code",
      "execution_count": 19,
      "metadata": {
        "id": "g60PajkrKIqd"
      },
      "outputs": [],
      "source": [
        "ratings_with_books=ratings.merge(books,on=\"ISBN\")"
      ]
    },
    {
      "cell_type": "code",
      "execution_count": 20,
      "metadata": {
        "id": "feFf4EUrKZh_"
      },
      "outputs": [],
      "source": [
        "num_rating=ratings_with_books.groupby('title')['rating'].count().reset_index()"
      ]
    },
    {
      "cell_type": "code",
      "execution_count": 21,
      "metadata": {
        "id": "RNmWN2aeK1Zw"
      },
      "outputs": [],
      "source": [
        "num_rating.rename(columns={\"rating\":\"num_of_rating\"},inplace=True)"
      ]
    },
    {
      "cell_type": "code",
      "execution_count": 22,
      "metadata": {
        "id": "aRVnTo7JLmQV"
      },
      "outputs": [],
      "source": [
        "final_rating=ratings_with_books.merge(num_rating,on ='title')"
      ]
    },
    {
      "cell_type": "code",
      "execution_count": 23,
      "metadata": {
        "id": "VLzFwK1DL1J_"
      },
      "outputs": [],
      "source": [
        "final_rating=final_rating[final_rating[\"num_of_rating\"]>=50]"
      ]
    },
    {
      "cell_type": "code",
      "execution_count": 24,
      "metadata": {
        "colab": {
          "base_uri": "https://localhost:8080/",
          "height": 363
        },
        "id": "GfvCpR0wR9TM",
        "outputId": "6a2ab2c5-64ab-4bb8-9898-527eeb80daa6"
      },
      "outputs": [
        {
          "data": {
            "text/html": [
              "<div>\n",
              "<style scoped>\n",
              "    .dataframe tbody tr th:only-of-type {\n",
              "        vertical-align: middle;\n",
              "    }\n",
              "\n",
              "    .dataframe tbody tr th {\n",
              "        vertical-align: top;\n",
              "    }\n",
              "\n",
              "    .dataframe thead th {\n",
              "        text-align: right;\n",
              "    }\n",
              "</style>\n",
              "<table border=\"1\" class=\"dataframe\">\n",
              "  <thead>\n",
              "    <tr style=\"text-align: right;\">\n",
              "      <th></th>\n",
              "      <th>user_id</th>\n",
              "      <th>ISBN</th>\n",
              "      <th>rating</th>\n",
              "      <th>title</th>\n",
              "      <th>Book-Author</th>\n",
              "      <th>year</th>\n",
              "      <th>Publisher</th>\n",
              "      <th>img_url</th>\n",
              "      <th>num_of_rating</th>\n",
              "    </tr>\n",
              "  </thead>\n",
              "  <tbody>\n",
              "    <tr>\n",
              "      <th>21023</th>\n",
              "      <td>11676</td>\n",
              "      <td>0373785070</td>\n",
              "      <td>9</td>\n",
              "      <td>Hideaway</td>\n",
              "      <td>Hannah Alexander</td>\n",
              "      <td>2003</td>\n",
              "      <td>Steeple Hill</td>\n",
              "      <td>http://images.amazon.com/images/P/0373785070.0...</td>\n",
              "      <td>89</td>\n",
              "    </tr>\n",
              "    <tr>\n",
              "      <th>136331</th>\n",
              "      <td>145449</td>\n",
              "      <td>0345425308</td>\n",
              "      <td>0</td>\n",
              "      <td>Violin</td>\n",
              "      <td>Anne Rice</td>\n",
              "      <td>1999</td>\n",
              "      <td>Ballantine Books</td>\n",
              "      <td>http://images.amazon.com/images/P/0345425308.0...</td>\n",
              "      <td>65</td>\n",
              "    </tr>\n",
              "    <tr>\n",
              "      <th>57273</th>\n",
              "      <td>60244</td>\n",
              "      <td>067976402X</td>\n",
              "      <td>0</td>\n",
              "      <td>Snow Falling on Cedars</td>\n",
              "      <td>David Guterson</td>\n",
              "      <td>1995</td>\n",
              "      <td>Vintage Books USA</td>\n",
              "      <td>http://images.amazon.com/images/P/067976402X.0...</td>\n",
              "      <td>206</td>\n",
              "    </tr>\n",
              "    <tr>\n",
              "      <th>128886</th>\n",
              "      <td>211430</td>\n",
              "      <td>0312978383</td>\n",
              "      <td>0</td>\n",
              "      <td>Winter Solstice</td>\n",
              "      <td>Rosamunde Pilcher</td>\n",
              "      <td>2001</td>\n",
              "      <td>St. Martin's Paperbacks</td>\n",
              "      <td>http://images.amazon.com/images/P/0312978383.0...</td>\n",
              "      <td>68</td>\n",
              "    </tr>\n",
              "    <tr>\n",
              "      <th>8081</th>\n",
              "      <td>11676</td>\n",
              "      <td>0446359866</td>\n",
              "      <td>0</td>\n",
              "      <td>Presumed Innocent</td>\n",
              "      <td>Scott Turow</td>\n",
              "      <td>1989</td>\n",
              "      <td>Warner Books</td>\n",
              "      <td>http://images.amazon.com/images/P/0446359866.0...</td>\n",
              "      <td>149</td>\n",
              "    </tr>\n",
              "    <tr>\n",
              "      <th>107700</th>\n",
              "      <td>21659</td>\n",
              "      <td>0375700757</td>\n",
              "      <td>0</td>\n",
              "      <td>Cold Mountain : A Novel</td>\n",
              "      <td>CHARLES FRAZIER</td>\n",
              "      <td>1998</td>\n",
              "      <td>Vintage</td>\n",
              "      <td>http://images.amazon.com/images/P/0375700757.0...</td>\n",
              "      <td>92</td>\n",
              "    </tr>\n",
              "    <tr>\n",
              "      <th>100584</th>\n",
              "      <td>164323</td>\n",
              "      <td>0425192725</td>\n",
              "      <td>8</td>\n",
              "      <td>Q Is for Quarry</td>\n",
              "      <td>Sue Grafton</td>\n",
              "      <td>2003</td>\n",
              "      <td>Berkley Publishing Group</td>\n",
              "      <td>http://images.amazon.com/images/P/0425192725.0...</td>\n",
              "      <td>88</td>\n",
              "    </tr>\n",
              "    <tr>\n",
              "      <th>993</th>\n",
              "      <td>88733</td>\n",
              "      <td>014100018X</td>\n",
              "      <td>0</td>\n",
              "      <td>Chocolat</td>\n",
              "      <td>Joanne Harris</td>\n",
              "      <td>2000</td>\n",
              "      <td>Penguin Books</td>\n",
              "      <td>http://images.amazon.com/images/P/014100018X.0...</td>\n",
              "      <td>103</td>\n",
              "    </tr>\n",
              "    <tr>\n",
              "      <th>77058</th>\n",
              "      <td>182993</td>\n",
              "      <td>0767905180</td>\n",
              "      <td>8</td>\n",
              "      <td>Jemima J: A Novel About Ugly Ducklings and Swans</td>\n",
              "      <td>Jane Green</td>\n",
              "      <td>2001</td>\n",
              "      <td>Broadway Books</td>\n",
              "      <td>http://images.amazon.com/images/P/0767905180.0...</td>\n",
              "      <td>70</td>\n",
              "    </tr>\n",
              "    <tr>\n",
              "      <th>7469</th>\n",
              "      <td>238545</td>\n",
              "      <td>0440225701</td>\n",
              "      <td>0</td>\n",
              "      <td>The Street Lawyer</td>\n",
              "      <td>JOHN GRISHAM</td>\n",
              "      <td>1999</td>\n",
              "      <td>Dell</td>\n",
              "      <td>http://images.amazon.com/images/P/0440225701.0...</td>\n",
              "      <td>186</td>\n",
              "    </tr>\n",
              "  </tbody>\n",
              "</table>\n",
              "</div>"
            ],
            "text/plain": [
              "        user_id        ISBN  rating  \\\n",
              "21023     11676  0373785070       9   \n",
              "136331   145449  0345425308       0   \n",
              "57273     60244  067976402X       0   \n",
              "128886   211430  0312978383       0   \n",
              "8081      11676  0446359866       0   \n",
              "107700    21659  0375700757       0   \n",
              "100584   164323  0425192725       8   \n",
              "993       88733  014100018X       0   \n",
              "77058    182993  0767905180       8   \n",
              "7469     238545  0440225701       0   \n",
              "\n",
              "                                                   title        Book-Author  \\\n",
              "21023                                           Hideaway   Hannah Alexander   \n",
              "136331                                            Violin          Anne Rice   \n",
              "57273                             Snow Falling on Cedars     David Guterson   \n",
              "128886                                   Winter Solstice  Rosamunde Pilcher   \n",
              "8081                                   Presumed Innocent        Scott Turow   \n",
              "107700                           Cold Mountain : A Novel    CHARLES FRAZIER   \n",
              "100584                                   Q Is for Quarry        Sue Grafton   \n",
              "993                                             Chocolat      Joanne Harris   \n",
              "77058   Jemima J: A Novel About Ugly Ducklings and Swans         Jane Green   \n",
              "7469                                   The Street Lawyer       JOHN GRISHAM   \n",
              "\n",
              "        year                 Publisher  \\\n",
              "21023   2003              Steeple Hill   \n",
              "136331  1999          Ballantine Books   \n",
              "57273   1995         Vintage Books USA   \n",
              "128886  2001   St. Martin's Paperbacks   \n",
              "8081    1989              Warner Books   \n",
              "107700  1998                   Vintage   \n",
              "100584  2003  Berkley Publishing Group   \n",
              "993     2000             Penguin Books   \n",
              "77058   2001            Broadway Books   \n",
              "7469    1999                      Dell   \n",
              "\n",
              "                                                  img_url  num_of_rating  \n",
              "21023   http://images.amazon.com/images/P/0373785070.0...             89  \n",
              "136331  http://images.amazon.com/images/P/0345425308.0...             65  \n",
              "57273   http://images.amazon.com/images/P/067976402X.0...            206  \n",
              "128886  http://images.amazon.com/images/P/0312978383.0...             68  \n",
              "8081    http://images.amazon.com/images/P/0446359866.0...            149  \n",
              "107700  http://images.amazon.com/images/P/0375700757.0...             92  \n",
              "100584  http://images.amazon.com/images/P/0425192725.0...             88  \n",
              "993     http://images.amazon.com/images/P/014100018X.0...            103  \n",
              "77058   http://images.amazon.com/images/P/0767905180.0...             70  \n",
              "7469    http://images.amazon.com/images/P/0440225701.0...            186  "
            ]
          },
          "execution_count": 24,
          "metadata": {},
          "output_type": "execute_result"
        }
      ],
      "source": [
        "final_rating.sample(10)"
      ]
    },
    {
      "cell_type": "code",
      "execution_count": 25,
      "metadata": {
        "id": "qOl9H8vnSIWa"
      },
      "outputs": [],
      "source": [
        "final_rating.drop_duplicates(['user_id','title'],inplace=True)"
      ]
    },
    {
      "cell_type": "markdown",
      "metadata": {
        "id": "xsbrj4dYUb3m"
      },
      "source": []
    },
    {
      "cell_type": "code",
      "execution_count": 26,
      "metadata": {
        "id": "zqphtonnTGhf"
      },
      "outputs": [],
      "source": [
        "book_pivot=final_rating.pivot_table(columns='user_id',index='title',values='rating')"
      ]
    },
    {
      "cell_type": "code",
      "execution_count": 27,
      "metadata": {
        "id": "fsD26vyiUsK5"
      },
      "outputs": [],
      "source": [
        "book_pivot.fillna(0,inplace=True)"
      ]
    },
    {
      "cell_type": "code",
      "execution_count": 28,
      "metadata": {
        "id": "vA5wmmyEVMTw"
      },
      "outputs": [],
      "source": [
        "from scipy.sparse import csr_matrix"
      ]
    },
    {
      "cell_type": "code",
      "execution_count": 29,
      "metadata": {
        "id": "Dj6V3d6mWBrk"
      },
      "outputs": [],
      "source": [
        "book_sparse=csr_matrix(book_pivot)"
      ]
    },
    {
      "cell_type": "code",
      "execution_count": 30,
      "metadata": {
        "id": "AikcoTesWJOJ"
      },
      "outputs": [],
      "source": [
        "from sklearn.neighbors import NearestNeighbors"
      ]
    },
    {
      "cell_type": "code",
      "execution_count": 31,
      "metadata": {
        "id": "qXrqXSa-Wuyc"
      },
      "outputs": [],
      "source": [
        "model=NearestNeighbors(algorithm='brute')\n"
      ]
    },
    {
      "cell_type": "code",
      "execution_count": 32,
      "metadata": {
        "colab": {
          "base_uri": "https://localhost:8080/",
          "height": 75
        },
        "id": "9Ye5m3kNhRm-",
        "outputId": "c3e22bf6-34e1-4a75-a7fe-9db1a27d9722"
      },
      "outputs": [
        {
          "data": {
            "text/html": [
              "<style>#sk-container-id-1 {color: black;background-color: white;}#sk-container-id-1 pre{padding: 0;}#sk-container-id-1 div.sk-toggleable {background-color: white;}#sk-container-id-1 label.sk-toggleable__label {cursor: pointer;display: block;width: 100%;margin-bottom: 0;padding: 0.3em;box-sizing: border-box;text-align: center;}#sk-container-id-1 label.sk-toggleable__label-arrow:before {content: \"▸\";float: left;margin-right: 0.25em;color: #696969;}#sk-container-id-1 label.sk-toggleable__label-arrow:hover:before {color: black;}#sk-container-id-1 div.sk-estimator:hover label.sk-toggleable__label-arrow:before {color: black;}#sk-container-id-1 div.sk-toggleable__content {max-height: 0;max-width: 0;overflow: hidden;text-align: left;background-color: #f0f8ff;}#sk-container-id-1 div.sk-toggleable__content pre {margin: 0.2em;color: black;border-radius: 0.25em;background-color: #f0f8ff;}#sk-container-id-1 input.sk-toggleable__control:checked~div.sk-toggleable__content {max-height: 200px;max-width: 100%;overflow: auto;}#sk-container-id-1 input.sk-toggleable__control:checked~label.sk-toggleable__label-arrow:before {content: \"▾\";}#sk-container-id-1 div.sk-estimator input.sk-toggleable__control:checked~label.sk-toggleable__label {background-color: #d4ebff;}#sk-container-id-1 div.sk-label input.sk-toggleable__control:checked~label.sk-toggleable__label {background-color: #d4ebff;}#sk-container-id-1 input.sk-hidden--visually {border: 0;clip: rect(1px 1px 1px 1px);clip: rect(1px, 1px, 1px, 1px);height: 1px;margin: -1px;overflow: hidden;padding: 0;position: absolute;width: 1px;}#sk-container-id-1 div.sk-estimator {font-family: monospace;background-color: #f0f8ff;border: 1px dotted black;border-radius: 0.25em;box-sizing: border-box;margin-bottom: 0.5em;}#sk-container-id-1 div.sk-estimator:hover {background-color: #d4ebff;}#sk-container-id-1 div.sk-parallel-item::after {content: \"\";width: 100%;border-bottom: 1px solid gray;flex-grow: 1;}#sk-container-id-1 div.sk-label:hover label.sk-toggleable__label {background-color: #d4ebff;}#sk-container-id-1 div.sk-serial::before {content: \"\";position: absolute;border-left: 1px solid gray;box-sizing: border-box;top: 0;bottom: 0;left: 50%;z-index: 0;}#sk-container-id-1 div.sk-serial {display: flex;flex-direction: column;align-items: center;background-color: white;padding-right: 0.2em;padding-left: 0.2em;position: relative;}#sk-container-id-1 div.sk-item {position: relative;z-index: 1;}#sk-container-id-1 div.sk-parallel {display: flex;align-items: stretch;justify-content: center;background-color: white;position: relative;}#sk-container-id-1 div.sk-item::before, #sk-container-id-1 div.sk-parallel-item::before {content: \"\";position: absolute;border-left: 1px solid gray;box-sizing: border-box;top: 0;bottom: 0;left: 50%;z-index: -1;}#sk-container-id-1 div.sk-parallel-item {display: flex;flex-direction: column;z-index: 1;position: relative;background-color: white;}#sk-container-id-1 div.sk-parallel-item:first-child::after {align-self: flex-end;width: 50%;}#sk-container-id-1 div.sk-parallel-item:last-child::after {align-self: flex-start;width: 50%;}#sk-container-id-1 div.sk-parallel-item:only-child::after {width: 0;}#sk-container-id-1 div.sk-dashed-wrapped {border: 1px dashed gray;margin: 0 0.4em 0.5em 0.4em;box-sizing: border-box;padding-bottom: 0.4em;background-color: white;}#sk-container-id-1 div.sk-label label {font-family: monospace;font-weight: bold;display: inline-block;line-height: 1.2em;}#sk-container-id-1 div.sk-label-container {text-align: center;}#sk-container-id-1 div.sk-container {/* jupyter's `normalize.less` sets `[hidden] { display: none; }` but bootstrap.min.css set `[hidden] { display: none !important; }` so we also need the `!important` here to be able to override the default hidden behavior on the sphinx rendered scikit-learn.org. See: https://github.com/scikit-learn/scikit-learn/issues/21755 */display: inline-block !important;position: relative;}#sk-container-id-1 div.sk-text-repr-fallback {display: none;}</style><div id=\"sk-container-id-1\" class=\"sk-top-container\"><div class=\"sk-text-repr-fallback\"><pre>NearestNeighbors(algorithm=&#x27;brute&#x27;)</pre><b>In a Jupyter environment, please rerun this cell to show the HTML representation or trust the notebook. <br />On GitHub, the HTML representation is unable to render, please try loading this page with nbviewer.org.</b></div><div class=\"sk-container\" hidden><div class=\"sk-item\"><div class=\"sk-estimator sk-toggleable\"><input class=\"sk-toggleable__control sk-hidden--visually\" id=\"sk-estimator-id-1\" type=\"checkbox\" checked><label for=\"sk-estimator-id-1\" class=\"sk-toggleable__label sk-toggleable__label-arrow\">NearestNeighbors</label><div class=\"sk-toggleable__content\"><pre>NearestNeighbors(algorithm=&#x27;brute&#x27;)</pre></div></div></div></div></div>"
            ],
            "text/plain": [
              "NearestNeighbors(algorithm='brute')"
            ]
          },
          "execution_count": 32,
          "metadata": {},
          "output_type": "execute_result"
        }
      ],
      "source": [
        "model.fit(book_sparse)"
      ]
    },
    {
      "cell_type": "code",
      "execution_count": 33,
      "metadata": {
        "id": "a4wW96n5hVrA"
      },
      "outputs": [],
      "source": [
        "distance,suggestion=model.kneighbors(book_pivot.iloc[237,:].values.reshape(1,-1),n_neighbors=6)\n"
      ]
    },
    {
      "cell_type": "code",
      "execution_count": 34,
      "metadata": {
        "colab": {
          "base_uri": "https://localhost:8080/"
        },
        "id": "tCY3B_x7iBtK",
        "outputId": "fbe74d85-47ef-48c1-edf0-da56322c6fb9"
      },
      "outputs": [
        {
          "data": {
            "text/plain": [
              "array([[ 0.        , 68.78953409, 69.5413546 , 72.64296249, 76.83098333,\n",
              "        77.28518616]])"
            ]
          },
          "execution_count": 34,
          "metadata": {},
          "output_type": "execute_result"
        }
      ],
      "source": [
        "distance"
      ]
    },
    {
      "cell_type": "code",
      "execution_count": 35,
      "metadata": {
        "colab": {
          "base_uri": "https://localhost:8080/"
        },
        "id": "c33eIrqViRw8",
        "outputId": "1c1001c7-a67b-467f-c051-fa5e4118d253"
      },
      "outputs": [
        {
          "data": {
            "text/plain": [
              "array([[237, 240, 238, 241, 184, 536]], dtype=int64)"
            ]
          },
          "execution_count": 35,
          "metadata": {},
          "output_type": "execute_result"
        }
      ],
      "source": [
        "suggestion"
      ]
    },
    {
      "cell_type": "code",
      "execution_count": 36,
      "metadata": {
        "colab": {
          "base_uri": "https://localhost:8080/"
        },
        "id": "1USzOVjLiT0p",
        "outputId": "d2c49edf-93c9-4c33-c7d0-92bae2a647a5"
      },
      "outputs": [
        {
          "name": "stdout",
          "output_type": "stream",
          "text": [
            "Index(['Harry Potter and the Chamber of Secrets (Book 2)',\n",
            "       'Harry Potter and the Prisoner of Azkaban (Book 3)',\n",
            "       'Harry Potter and the Goblet of Fire (Book 4)',\n",
            "       'Harry Potter and the Sorcerer's Stone (Book 1)', 'Exclusive',\n",
            "       'The Cradle Will Fall'],\n",
            "      dtype='object', name='title')\n"
          ]
        }
      ],
      "source": [
        "for i in range(len(suggestion)):\n",
        "  print(book_pivot.index[suggestion[i]])\n",
        "  #to see the recommendation"
      ]
    },
    {
      "cell_type": "code",
      "execution_count": 37,
      "metadata": {
        "colab": {
          "base_uri": "https://localhost:8080/",
          "height": 35
        },
        "id": "ojF5I3aTicmy",
        "outputId": "9a37162c-ad4d-451d-c46c-573f4ca510b7"
      },
      "outputs": [
        {
          "data": {
            "text/plain": [
              "'4 Blondes'"
            ]
          },
          "execution_count": 37,
          "metadata": {},
          "output_type": "execute_result"
        }
      ],
      "source": [
        "book_pivot.index[3]"
      ]
    },
    {
      "cell_type": "code",
      "execution_count": 38,
      "metadata": {
        "id": "zjAOghoIi86r"
      },
      "outputs": [],
      "source": [
        "books_name=book_pivot.index"
      ]
    },
    {
      "cell_type": "code",
      "execution_count": 39,
      "metadata": {
        "id": "RQQLoFjIjAlo"
      },
      "outputs": [],
      "source": [
        "import pickle\n",
        "pickle.dump(model,open('artifacts/model.pkl','wb'))\n",
        "pickle.dump(books_name,open('artifacts/book_names.pkl','wb'))\n",
        "pickle.dump(final_rating,open('artifacts/final_rating.pkl','wb'))\n",
        "pickle.dump(book_pivot,open('artifacts/book_pivot.pkl','wb'))\n"
      ]
    },
    {
      "cell_type": "code",
      "execution_count": 40,
      "metadata": {
        "id": "-ybLmG5e3jtq"
      },
      "outputs": [],
      "source": [
        "def recommend_me_the_book(book_name):\n",
        "  try:\n",
        "    book_id=np.where(book_pivot.index ==book_name)[0][0]\n",
        "    distance,suggestion=model.kneighbors(book_pivot.iloc[book_id,:].values.reshape(1,-1),n_neighbors=6)\n",
        "  \n",
        "    for i in range(len(suggestion)):\n",
        "      books=book_pivot.index[suggestion[i]]\n",
        "      for j in books:\n",
        "        print(j)\n",
        "  except IndexError:\n",
        "    print(\"The book doesnt exists in the database\")\n",
        "  \n"
      ]
    },
    {
      "cell_type": "code",
      "execution_count": 41,
      "metadata": {
        "colab": {
          "base_uri": "https://localhost:8080/"
        },
        "id": "dpAM6oML5mgO",
        "outputId": "29e570f5-d820-4179-d24d-d7fb3dc0f13e"
      },
      "outputs": [
        {
          "name": "stdout",
          "output_type": "stream",
          "text": [
            "The book doesnt exists in the database\n"
          ]
        }
      ],
      "source": [
        "book_name=''\n",
        "recommend_me_the_book(book_name)"
      ]
    },
    {
      "cell_type": "code",
      "execution_count": null,
      "metadata": {
        "id": "Jep2698e5xr-"
      },
      "outputs": [],
      "source": []
    }
  ],
  "metadata": {
    "colab": {
      "provenance": []
    },
    "kernelspec": {
      "display_name": "Python 3",
      "name": "python3"
    },
    "language_info": {
      "codemirror_mode": {
        "name": "ipython",
        "version": 3
      },
      "file_extension": ".py",
      "mimetype": "text/x-python",
      "name": "python",
      "nbconvert_exporter": "python",
      "pygments_lexer": "ipython3",
      "version": "3.10.11"
    }
  },
  "nbformat": 4,
  "nbformat_minor": 0
}
